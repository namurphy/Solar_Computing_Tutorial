{
 "cells": [
  {
   "cell_type": "markdown",
   "metadata": {},
   "source": [
    "# Python for Heliophysics\n",
    "\n",
    "Today we'll briefly cover a few data structures I didn't get to last time, and then look at functionality from [Astropy](https://docs.astropy.org/en/stable/), [PlasmaPy](https://docs.plasmapy.org/en/stable/), and finally [SunPy](https://docs.sunpy.org/en/stable/).  The intention of this tutorial is not to be comprehensive, but rather to give a general idea of the capabilities of the different packages.  The [Python in Heliophysics Community (PyHC)](http://heliopython.org) is an effort to coordinate the development of multiple Python packages for heliophysics.   "
   ]
  },
  {
   "cell_type": "markdown",
   "metadata": {},
   "source": [
    "## Preliminary imports\n",
    "\n",
    "Please run the following cell with shift-enter which will import what we need for today."
   ]
  },
  {
   "cell_type": "code",
   "execution_count": null,
   "metadata": {},
   "outputs": [],
   "source": [
    "import warnings\n",
    "warnings.filterwarnings('ignore', category=Warning)\n",
    "\n",
    "# General packages\n",
    "\n",
    "import numpy as np\n",
    "import matplotlib.pyplot as plt\n",
    "\n",
    "# Settings for plotting\n",
    "\n",
    "%matplotlib inline\n",
    "plt.rcParams['figure.figsize'] = (16, 8)\n",
    "\n",
    "# Astropy imports\n",
    "\n",
    "import astropy.units as u\n",
    "import astropy.constants as const\n",
    "from astropy.time import Time\n",
    "from astropy.coordinates import get_body_barycentric, SkyCoord\n",
    "\n",
    "# PlasmaPy imports\n",
    "\n",
    "from plasmapy.atomic import Particle\n",
    "\n",
    "# SunPy imports\n",
    "\n",
    "import sunpy.map\n",
    "from sunpy.net import Fido, attrs\n",
    "from sunpy import timeseries\n",
    "from sunpy.coordinates import frames\n",
    "from sunpy.coordinates import get_body_heliographic_stonyhurst"
   ]
  },
  {
   "cell_type": "markdown",
   "metadata": {},
   "source": [
    "## Tuples, sets, and dictionaries\n",
    "\n",
    "These are three different data types that are pretty common in Python.  We'll go over the essentials so that we can recognize them if we encounter them, and have an idea of what they can do."
   ]
  },
  {
   "cell_type": "markdown",
   "metadata": {},
   "source": [
    "### Tuples\n",
    "\n",
    "A `tuple` is like a `list`, except that it is _immutable_.  A `list` is surrounded by square brackets, while a `tuple` is surrounded by parentheses."
   ]
  },
  {
   "cell_type": "code",
   "execution_count": null,
   "metadata": {},
   "outputs": [],
   "source": [
    "sample_tuple = (3, 'three')"
   ]
  },
  {
   "cell_type": "code",
   "execution_count": null,
   "metadata": {},
   "outputs": [],
   "source": [
    "sample_tuple[0]"
   ]
  },
  {
   "cell_type": "code",
   "execution_count": null,
   "metadata": {},
   "outputs": [],
   "source": [
    "sample_tuple[1]"
   ]
  },
  {
   "cell_type": "markdown",
   "metadata": {},
   "source": [
    "Because a `tuple` is _immutable_, we cannot change which objects are inside of it."
   ]
  },
  {
   "cell_type": "code",
   "execution_count": null,
   "metadata": {},
   "outputs": [],
   "source": [
    "sample_tuple[1] = 'cat'"
   ]
  },
  {
   "cell_type": "markdown",
   "metadata": {},
   "source": [
    "But we should be careful: we can still change mutable objects _within_ a `tuple`."
   ]
  },
  {
   "cell_type": "code",
   "execution_count": null,
   "metadata": {},
   "outputs": [],
   "source": [
    "sample_list = []\n",
    "sample_tuple = (sample_list, 5)\n",
    "print(sample_tuple)"
   ]
  },
  {
   "cell_type": "code",
   "execution_count": null,
   "metadata": {},
   "outputs": [],
   "source": [
    "sample_list.append('new item in list')\n",
    "print(sample_tuple)"
   ]
  },
  {
   "cell_type": "markdown",
   "metadata": {},
   "source": [
    "### Sets\n",
    "\n",
    "A `set` is a collection that behaves like a mathematical set.  If you put in more than one equal object in a set, only one of that object will show up in the set.  Sets are _mutable_ and not ordered.  Sets can be created with curly brackets."
   ]
  },
  {
   "cell_type": "code",
   "execution_count": null,
   "metadata": {},
   "outputs": [],
   "source": [
    "sample_set = {1, 3, 3, 3, 9, 9, 9, 9, 9}\n",
    "print(sample_set)"
   ]
  },
  {
   "cell_type": "markdown",
   "metadata": {},
   "source": [
    "We can perform standard operations on Python sets:"
   ]
  },
  {
   "cell_type": "code",
   "execution_count": null,
   "metadata": {},
   "outputs": [],
   "source": [
    "multiples_of_two = {2, 4, 6, 8, 10, 12}\n",
    "multiples_of_three = {3, 6, 9, 12}"
   ]
  },
  {
   "cell_type": "markdown",
   "metadata": {},
   "source": [
    "The _difference_ provides objects that are in the first set but not in the second."
   ]
  },
  {
   "cell_type": "code",
   "execution_count": null,
   "metadata": {},
   "outputs": [],
   "source": [
    "multiples_of_two - multiples_of_three"
   ]
  },
  {
   "cell_type": "markdown",
   "metadata": {},
   "source": [
    "The _intersection_ (denoted by `&`) provides objects that are in both sets."
   ]
  },
  {
   "cell_type": "code",
   "execution_count": null,
   "metadata": {},
   "outputs": [],
   "source": [
    "multiples_of_two & multiples_of_three"
   ]
  },
  {
   "cell_type": "markdown",
   "metadata": {},
   "source": [
    "The union (denoted by `|`) provides all objects that are in either set."
   ]
  },
  {
   "cell_type": "code",
   "execution_count": null,
   "metadata": {},
   "outputs": [],
   "source": [
    "multiples_of_two | multiples_of_three"
   ]
  },
  {
   "cell_type": "markdown",
   "metadata": {},
   "source": [
    "### Dictionaries\n",
    "\n",
    "A `dict` matches _keys_ to _values_.  Here is a dictionary where\n",
    " \n",
    " - keys are atomic symbols\n",
    " - values are element names\n",
    " \n",
    "The keys do not need to be strings, or even all of the same type.  In general, keys should be immutable."
   ]
  },
  {
   "cell_type": "code",
   "execution_count": null,
   "metadata": {},
   "outputs": [],
   "source": [
    "elements = {'H': 'hydrogen', 'He': 'helium', 'Li': 'lithium'}"
   ]
  },
  {
   "cell_type": "code",
   "execution_count": null,
   "metadata": {},
   "outputs": [],
   "source": [
    "elements['H']"
   ]
  },
  {
   "cell_type": "code",
   "execution_count": null,
   "metadata": {},
   "outputs": [],
   "source": [
    "elements['He']"
   ]
  },
  {
   "cell_type": "markdown",
   "metadata": {},
   "source": [
    "We can loop over the keys and values in a dictionary.  An _item_ is a _key_ paired with the corresponding _value_."
   ]
  },
  {
   "cell_type": "code",
   "execution_count": null,
   "metadata": {},
   "outputs": [],
   "source": [
    "for key, value in elements.items():\n",
    "    print(key, value)"
   ]
  },
  {
   "cell_type": "markdown",
   "metadata": {},
   "source": [
    "We can add new items into dictionaries."
   ]
  },
  {
   "cell_type": "code",
   "execution_count": null,
   "metadata": {},
   "outputs": [],
   "source": [
    "elements[79] = 'gold'"
   ]
  },
  {
   "cell_type": "markdown",
   "metadata": {},
   "source": [
    "## Astropy\n",
    "\n",
    "Astropy is a Python package that contains essential functionality needed by most astronomers.  We'll look at three of the subpackages that get used a lot in other packages."
   ]
  },
  {
   "cell_type": "markdown",
   "metadata": {},
   "source": [
    "### `astropy.units`"
   ]
  },
  {
   "cell_type": "code",
   "execution_count": null,
   "metadata": {},
   "outputs": [],
   "source": [
    "import astropy.units as u\n",
    "import astropy.constants as const"
   ]
  },
  {
   "cell_type": "markdown",
   "metadata": {},
   "source": [
    "We can hit the tab button or use `dir` to show what's in `astropy.units` and `astropy.constants`."
   ]
  },
  {
   "cell_type": "code",
   "execution_count": null,
   "metadata": {},
   "outputs": [],
   "source": [
    "distance = 42 * u.m\n",
    "print(distance)"
   ]
  },
  {
   "cell_type": "code",
   "execution_count": null,
   "metadata": {},
   "outputs": [],
   "source": [
    "distance.to('cm')"
   ]
  },
  {
   "cell_type": "code",
   "execution_count": null,
   "metadata": {},
   "outputs": [],
   "source": [
    "distance.to(u.cm)"
   ]
  },
  {
   "cell_type": "code",
   "execution_count": null,
   "metadata": {},
   "outputs": [],
   "source": [
    "distance.to(u.imperial.mile)"
   ]
  },
  {
   "cell_type": "markdown",
   "metadata": {},
   "source": [
    "When we multiply a number with a unit, we create a `Quantity` object.  We can also create a `Quantity` directly."
   ]
  },
  {
   "cell_type": "code",
   "execution_count": null,
   "metadata": {},
   "outputs": [],
   "source": [
    "time = u.Quantity(42, 's')\n",
    "print(time)"
   ]
  },
  {
   "cell_type": "markdown",
   "metadata": {},
   "source": [
    "`astropy.units` will raise an error if we try to convert a `Quantity` into something with incompatible units.  Remember to scroll to the bottom of the traceback."
   ]
  },
  {
   "cell_type": "code",
   "execution_count": null,
   "metadata": {},
   "outputs": [],
   "source": [
    "time_interval.to('kg')"
   ]
  },
  {
   "cell_type": "markdown",
   "metadata": {},
   "source": [
    "We can do operations with units!"
   ]
  },
  {
   "cell_type": "code",
   "execution_count": null,
   "metadata": {},
   "outputs": [],
   "source": [
    "velocity = distance / time\n",
    "print(velocity)"
   ]
  },
  {
   "cell_type": "markdown",
   "metadata": {},
   "source": [
    "We can access the value and unit directly"
   ]
  },
  {
   "cell_type": "code",
   "execution_count": null,
   "metadata": {},
   "outputs": [],
   "source": [
    "velocity.value"
   ]
  },
  {
   "cell_type": "code",
   "execution_count": null,
   "metadata": {},
   "outputs": [],
   "source": [
    "velocity.unit"
   ]
  },
  {
   "cell_type": "markdown",
   "metadata": {},
   "source": [
    "`astropy.units` will raise an error if we try to do operations with incompatible units.  This is kind of like an additional test.  Again, scroll to the bottom of the traceback."
   ]
  },
  {
   "cell_type": "code",
   "execution_count": null,
   "metadata": {},
   "outputs": [],
   "source": [
    "distance + velocity"
   ]
  },
  {
   "cell_type": "markdown",
   "metadata": {},
   "source": [
    "We don't need to have the units be identical.  Rather, they just need to be compatible"
   ]
  },
  {
   "cell_type": "code",
   "execution_count": null,
   "metadata": {},
   "outputs": [],
   "source": [
    "distance_in_cm = 1e18 * u.cm\n",
    "distance_in_pc = 4 * u.pc\n",
    "print(distance_in_cm + distance_in_pc)"
   ]
  },
  {
   "cell_type": "code",
   "execution_count": null,
   "metadata": {},
   "outputs": [],
   "source": [
    "distance_in_pc.si"
   ]
  },
  {
   "cell_type": "code",
   "execution_count": null,
   "metadata": {},
   "outputs": [],
   "source": [
    "distance_in_pc.cgs"
   ]
  },
  {
   "cell_type": "code",
   "execution_count": null,
   "metadata": {},
   "outputs": [],
   "source": [
    "distance_in_cm.to_string()"
   ]
  },
  {
   "cell_type": "markdown",
   "metadata": {},
   "source": [
    "We can also create custom units"
   ]
  },
  {
   "cell_type": "code",
   "execution_count": null,
   "metadata": {},
   "outputs": [],
   "source": [
    "mph = u.imperial.mile / u.hour\n",
    "88 * u.mph"
   ]
  },
  {
   "cell_type": "markdown",
   "metadata": {},
   "source": [
    "We can even use `astropy.units` to help write cookbooks with ridiculous units."
   ]
  },
  {
   "cell_type": "code",
   "execution_count": null,
   "metadata": {},
   "outputs": [],
   "source": [
    "(u.barn * u.Mpc).to(u.imperial.tsp)"
   ]
  },
  {
   "cell_type": "markdown",
   "metadata": {},
   "source": [
    "A barn-megaparsec is roughly a teaspoon!\n",
    "\n",
    "**Takeaway point:** `astropy.units` is extremely helpful when we're working with physical quantities that have units!"
   ]
  },
  {
   "cell_type": "markdown",
   "metadata": {},
   "source": [
    "### `astropy.constants`\n",
    "\n",
    "The `astropy.constants` subpackage contains the most commonly needed physical constants for physics and astronomy."
   ]
  },
  {
   "cell_type": "code",
   "execution_count": null,
   "metadata": {},
   "outputs": [],
   "source": [
    "import astropy.constants as const"
   ]
  },
  {
   "cell_type": "code",
   "execution_count": null,
   "metadata": {},
   "outputs": [],
   "source": [
    "const.c"
   ]
  },
  {
   "cell_type": "code",
   "execution_count": null,
   "metadata": {},
   "outputs": [],
   "source": [
    "const.G"
   ]
  },
  {
   "cell_type": "code",
   "execution_count": null,
   "metadata": {},
   "outputs": [],
   "source": [
    "const.L_sun"
   ]
  },
  {
   "cell_type": "code",
   "execution_count": null,
   "metadata": {},
   "outputs": [],
   "source": [
    "const.R_sun"
   ]
  },
  {
   "cell_type": "code",
   "execution_count": null,
   "metadata": {},
   "outputs": [],
   "source": [
    "const.M_sun"
   ]
  },
  {
   "cell_type": "markdown",
   "metadata": {},
   "source": [
    "NumPy also contains some mathematical constants and special values."
   ]
  },
  {
   "cell_type": "code",
   "execution_count": null,
   "metadata": {},
   "outputs": [],
   "source": [
    "np.pi"
   ]
  },
  {
   "cell_type": "code",
   "execution_count": null,
   "metadata": {},
   "outputs": [],
   "source": [
    "np.inf > 999999999999999999999999"
   ]
  },
  {
   "cell_type": "markdown",
   "metadata": {},
   "source": [
    "NumPy has a special value referring to \"Not A Number\"."
   ]
  },
  {
   "cell_type": "code",
   "execution_count": null,
   "metadata": {},
   "outputs": [],
   "source": [
    "np.nan"
   ]
  },
  {
   "cell_type": "markdown",
   "metadata": {},
   "source": [
    "`np.nan` shows up when we try to do math that makes the universe grumpy."
   ]
  },
  {
   "cell_type": "code",
   "execution_count": null,
   "metadata": {},
   "outputs": [],
   "source": [
    "np.inf - np.inf"
   ]
  },
  {
   "cell_type": "markdown",
   "metadata": {},
   "source": [
    "### `astropy.time`"
   ]
  },
  {
   "cell_type": "code",
   "execution_count": null,
   "metadata": {},
   "outputs": [],
   "source": [
    "from astropy.time import Time"
   ]
  },
  {
   "cell_type": "code",
   "execution_count": null,
   "metadata": {},
   "outputs": [],
   "source": [
    "times = ['1999-01-01T00:00:00.123456789', '2010-01-01T00:00:00']\n",
    "\n",
    "t = Time(times, format='isot', scale='utc')"
   ]
  },
  {
   "cell_type": "markdown",
   "metadata": {},
   "source": [
    "We can print out the time in the 'iso' standard format"
   ]
  },
  {
   "cell_type": "code",
   "execution_count": null,
   "metadata": {},
   "outputs": [],
   "source": [
    "t.iso"
   ]
  },
  {
   "cell_type": "markdown",
   "metadata": {},
   "source": [
    "We can convert to many different time & date formats, such as the Julian Date."
   ]
  },
  {
   "cell_type": "code",
   "execution_count": null,
   "metadata": {},
   "outputs": [],
   "source": [
    "t.jd"
   ]
  },
  {
   "cell_type": "code",
   "execution_count": null,
   "metadata": {},
   "outputs": [],
   "source": [
    "dt = t[1] - t[0]"
   ]
  },
  {
   "cell_type": "markdown",
   "metadata": {},
   "source": [
    "`Time` objects also let us do conversions that I haven't thought about since grad school since I'm a theorist.\n",
    "\n",
    "Greenwich Apparent Sidereal Time (GAST) is Greenwich Mean Sidereal Time (GMST) corrected for the shift in the position of the vernal equinox due to nutation."
   ]
  },
  {
   "cell_type": "code",
   "execution_count": null,
   "metadata": {},
   "outputs": [],
   "source": [
    "t.sidereal_time('apparent', 'greenwich')"
   ]
  },
  {
   "cell_type": "markdown",
   "metadata": {},
   "source": [
    "## PlasmaPy\n",
    "\n",
    "PlasmaPy is a package that intends to be for plasma physics what Astropy is for astronomy.  PlasmaPy is much newer than Astropy, but the PlasmaPy community has been gaining community support.  This is the package I spend most of my time on."
   ]
  },
  {
   "cell_type": "markdown",
   "metadata": {},
   "source": [
    "### `plasmapy.atomic`\n",
    "\n",
    "We'll cover one of the most mature subpackages in PlasmaPy "
   ]
  },
  {
   "cell_type": "code",
   "execution_count": null,
   "metadata": {},
   "outputs": [],
   "source": [
    "from plasmapy.atomic import Particle"
   ]
  },
  {
   "cell_type": "code",
   "execution_count": null,
   "metadata": {},
   "outputs": [],
   "source": [
    "electron = Particle(\"e-\")\n",
    "proton = Particle(\"p+\")\n",
    "singly_ionized_iron = Particle(\"Fe 1+\")"
   ]
  },
  {
   "cell_type": "code",
   "execution_count": null,
   "metadata": {},
   "outputs": [],
   "source": [
    "Particle(\"p+\") == Particle(\"H-1 1+\") == Particle(\"proton\")"
   ]
  },
  {
   "cell_type": "code",
   "execution_count": null,
   "metadata": {},
   "outputs": [],
   "source": [
    "electron.mass"
   ]
  },
  {
   "cell_type": "code",
   "execution_count": null,
   "metadata": {},
   "outputs": [],
   "source": [
    "electron.charge"
   ]
  },
  {
   "cell_type": "code",
   "execution_count": null,
   "metadata": {},
   "outputs": [],
   "source": [
    "electron.mass_energy.to('MeV')"
   ]
  },
  {
   "cell_type": "code",
   "execution_count": null,
   "metadata": {},
   "outputs": [],
   "source": [
    "singly_ionized_iron.atomic_number"
   ]
  },
  {
   "cell_type": "code",
   "execution_count": null,
   "metadata": {},
   "outputs": [],
   "source": [
    "singly_ionized_iron.recombine()"
   ]
  },
  {
   "cell_type": "markdown",
   "metadata": {},
   "source": [
    "# SunPy"
   ]
  },
  {
   "cell_type": "code",
   "execution_count": null,
   "metadata": {},
   "outputs": [],
   "source": [
    "import sunpy.map\n",
    "from sunpy.net import Fido, attrs\n",
    "import astropy.units as u\n",
    "from sunpy import timeseries\n",
    "import matplotlib.pyplot as plt\n",
    "\n",
    "%matplotlib inline\n",
    "plt.rcParams['figure.figsize'] = (16, 8)"
   ]
  },
  {
   "cell_type": "markdown",
   "metadata": {},
   "source": [
    "## `Fido` lets us search for and download many solar data sets\n",
    "\n",
    "`Fido` provides an alternative way to access the _Virtual Solar Observatory_.\n",
    "\n",
    "Let's start with a search for SDO/AIA data."
   ]
  },
  {
   "cell_type": "code",
   "execution_count": null,
   "metadata": {},
   "outputs": [],
   "source": [
    "time_interval = attrs.Time('2014/05/15 08:00', '2014/05/15 08:10')\n",
    "instrument = attrs.Instrument('AIA')\n",
    "\n",
    "results = Fido.search(time_interval, instrument)\n",
    "\n",
    "print(results.file_num)"
   ]
  },
  {
   "cell_type": "code",
   "execution_count": null,
   "metadata": {},
   "outputs": [],
   "source": [
    "results"
   ]
  },
  {
   "cell_type": "code",
   "execution_count": null,
   "metadata": {},
   "outputs": [],
   "source": [
    "wavelength = attrs.Wavelength(171 * u.Angstrom)\n",
    "cadence = attrs.vso.Sample(2 * u.minute)\n",
    "\n",
    "results = Fido.search(time_interval, instrument, wavelength, cadence)"
   ]
  },
  {
   "cell_type": "code",
   "execution_count": null,
   "metadata": {},
   "outputs": [],
   "source": [
    "results"
   ]
  },
  {
   "cell_type": "markdown",
   "metadata": {},
   "source": [
    "Let's download the files by calling `Fido.fetch`.  For the moment, let's put them in our current working directory."
   ]
  },
  {
   "cell_type": "code",
   "execution_count": null,
   "metadata": {},
   "outputs": [],
   "source": [
    "aia_files = Fido.fetch(results, path='.')"
   ]
  },
  {
   "cell_type": "code",
   "execution_count": null,
   "metadata": {
    "scrolled": true
   },
   "outputs": [],
   "source": [
    "aia_files"
   ]
  },
  {
   "cell_type": "markdown",
   "metadata": {},
   "source": [
    "### Times series data: a GOES/XRS X-ray curve"
   ]
  },
  {
   "cell_type": "code",
   "execution_count": null,
   "metadata": {},
   "outputs": [],
   "source": [
    "goes_time_interval = attrs.Time('2013-10-28 00:00', '2013-10-28 12:00')\n",
    "goes = attrs.Instrument('XRS')\n",
    "\n",
    "search_results = Fido.search(goes_time_interval, goes)\n",
    "goes_files = Fido.fetch(search_results[0])"
   ]
  },
  {
   "cell_type": "code",
   "execution_count": null,
   "metadata": {},
   "outputs": [],
   "source": [
    "goes_lc = timeseries.TimeSeries(goes_files)"
   ]
  },
  {
   "cell_type": "markdown",
   "metadata": {},
   "source": [
    "Let's take a look.  There be an X-flare here!"
   ]
  },
  {
   "cell_type": "code",
   "execution_count": null,
   "metadata": {},
   "outputs": [],
   "source": [
    "goes_lc.peek()"
   ]
  },
  {
   "cell_type": "code",
   "execution_count": null,
   "metadata": {},
   "outputs": [],
   "source": [
    "goes_lc.meta"
   ]
  },
  {
   "cell_type": "code",
   "execution_count": null,
   "metadata": {},
   "outputs": [],
   "source": [
    "goes_lc.units"
   ]
  },
  {
   "cell_type": "markdown",
   "metadata": {},
   "source": [
    "### Maps in SunPy"
   ]
  },
  {
   "cell_type": "code",
   "execution_count": null,
   "metadata": {},
   "outputs": [],
   "source": [
    "stereo = (\n",
    "    attrs.vso.Source('STEREO_A') &\n",
    "    attrs.Instrument('EUVI') &\n",
    "    attrs.Time('2010-08-19', '2010-08-19T00:10:00')\n",
    ")\n",
    "\n",
    "aia = (\n",
    "    attrs.Instrument('AIA') &\n",
    "    attrs.vso.Sample(24 * u.hour) &\n",
    "    attrs.Time('2010-08-19', '2010-08-19T00:10:00')\n",
    ")\n",
    "\n",
    "wave = attrs.Wavelength(17 * u.nm, 18 * u.nm)\n",
    "\n",
    "res = Fido.search(wave, aia | stereo)"
   ]
  },
  {
   "cell_type": "code",
   "execution_count": null,
   "metadata": {},
   "outputs": [],
   "source": [
    "files = Fido.fetch(res)"
   ]
  },
  {
   "cell_type": "markdown",
   "metadata": {},
   "source": [
    "We use `sunpy.map.Map` to generate coordinate aware 2D images.  Let's create a `Map` each for the AIA and STEREO observations."
   ]
  },
  {
   "cell_type": "code",
   "execution_count": null,
   "metadata": {},
   "outputs": [],
   "source": [
    "map_aia, map_stereo = sunpy.map.Map(sorted(files))"
   ]
  },
  {
   "cell_type": "code",
   "execution_count": null,
   "metadata": {},
   "outputs": [],
   "source": [
    "fig = plt.figure()\n",
    "ax1 = fig.add_subplot(1,2,1, projection = map_aia)\n",
    "map_aia.plot(axes = ax1)\n",
    "ax2 = fig.add_subplot(1,2,2, projection = map_stereo)\n",
    "map_stereo.plot(axes = ax2)"
   ]
  },
  {
   "cell_type": "code",
   "execution_count": null,
   "metadata": {},
   "outputs": [],
   "source": [
    "ax = plt.subplot(projection='polar')\n",
    "\n",
    "plt.polar(\n",
    "    map_stereo.observer_coordinate.lon.to(u.rad), \n",
    "    map_stereo.observer_coordinate.radius.to(u.AU), \n",
    "    marker='o',  \n",
    "    ms=10, \n",
    "    label='STEREO_A',\n",
    ")\n",
    "\n",
    "plt.polar(\n",
    "    map_aia.observer_coordinate.lon.to(u.rad), \n",
    "    map_aia.observer_coordinate.radius.to(u.AU), \n",
    "    marker='o', \n",
    "    ms=10, \n",
    "    label='AIA',\n",
    ")\n",
    "\n",
    "plt.polar(\n",
    "    sun_pos.lon.to(u.rad), \n",
    "    sun_pos.radius.to(u.AU), \n",
    "    'o', ms=20, \n",
    "    label='Sun', \n",
    "    color='yellow',\n",
    ")\n",
    "\n",
    "\n",
    "ax.set_theta_zero_location(\"S\")\n",
    "\n",
    "plt.title('Position of the Sun, AIA and Stereo')\n",
    "plt.legend()"
   ]
  },
  {
   "cell_type": "markdown",
   "metadata": {},
   "source": [
    "\n",
    "\n"
   ]
  }
 ],
 "metadata": {
  "kernelspec": {
   "display_name": "Python 3",
   "language": "python",
   "name": "python3"
  },
  "language_info": {
   "codemirror_mode": {
    "name": "ipython",
    "version": 3
   },
   "file_extension": ".py",
   "mimetype": "text/x-python",
   "name": "python",
   "nbconvert_exporter": "python",
   "pygments_lexer": "ipython3",
   "version": "3.7.7"
  }
 },
 "nbformat": 4,
 "nbformat_minor": 4
}
