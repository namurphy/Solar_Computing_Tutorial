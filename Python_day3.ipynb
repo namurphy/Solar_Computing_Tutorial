{
 "cells": [
  {
   "cell_type": "markdown",
   "metadata": {},
   "source": [
    "# Python for Heliophysics\n",
    "\n",
    "Today we'll briefly cover a few data structures I didn't get to last time, and then look at functionality from [Astropy](https://docs.astropy.org/en/stable/), [PlasmaPy](https://docs.plasmapy.org/en/stable/), and finally [SunPy](https://docs.sunpy.org/en/stable/).  The intention of this tutorial is not to be comprehensive, but rather to give a general idea of the capabilities of the different packages.  The [Python in Heliophysics Community (PyHC)](http://heliopython.org) is an effort to coordinate the development of multiple Python packages for heliophysics.   "
   ]
  },
  {
   "cell_type": "markdown",
   "metadata": {},
   "source": [
    "## Preliminary imports\n",
    "\n",
    "Please run the following cell with shift-enter which will import what we need for today."
   ]
  },
  {
   "cell_type": "code",
   "execution_count": null,
   "metadata": {},
   "outputs": [],
   "source": [
    "import warnings\n",
    "warnings.filterwarnings('ignore', category=Warning)\n",
    "\n",
    "# General packages\n",
    "\n",
    "import numpy as np\n",
    "import matplotlib.pyplot as plt\n",
    "\n",
    "# Settings for plotting\n",
    "\n",
    "%matplotlib inline\n",
    "plt.rcParams['figure.figsize'] = (16, 8)\n",
    "\n",
    "# Astropy imports\n",
    "\n",
    "import astropy.units as u\n",
    "import astropy.constants as const\n",
    "from astropy.time import Time\n",
    "from astropy.coordinates import get_body_barycentric, SkyCoord\n",
    "\n",
    "# PlasmaPy imports\n",
    "\n",
    "from plasmapy.atomic import Particle\n",
    "\n",
    "# SunPy imports\n",
    "\n",
    "import sunpy.map\n",
    "from sunpy.net import Fido, attrs\n",
    "from sunpy import timeseries\n",
    "from sunpy.coordinates import frames\n",
    "from sunpy.coordinates import get_body_heliographic_stonyhurst"
   ]
  },
  {
   "cell_type": "code",
   "execution_count": null,
   "metadata": {},
   "outputs": [],
   "source": []
  }
 ],
 "metadata": {
  "kernelspec": {
   "display_name": "Python 3",
   "language": "python",
   "name": "python3"
  },
  "language_info": {
   "codemirror_mode": {
    "name": "ipython",
    "version": 3
   },
   "file_extension": ".py",
   "mimetype": "text/x-python",
   "name": "python",
   "nbconvert_exporter": "python",
   "pygments_lexer": "ipython3",
   "version": "3.7.7"
  }
 },
 "nbformat": 4,
 "nbformat_minor": 4
}
